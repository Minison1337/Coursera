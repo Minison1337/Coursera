{
    "nbformat_minor": 1, 
    "cells": [
        {
            "source": "## Capstone Project - The Battle of Neighborhoods", 
            "cell_type": "markdown", 
            "metadata": {
                "collapsed": true
            }
        }, 
        {
            "source": "### 1. Description of the problem and a discussion of the background", 
            "cell_type": "markdown", 
            "metadata": {}
        }, 
        {
            "source": "In Toronto, more specifically, in the area of Downtown Toronto, a new caf\u00e9 is to be opened. Due to the already very high density of caf\u00e9s, however, an environment analysis for the evaluation of the competitive situation should first be carried out. The caf\u00e9 is to be opened in the neighborhood of Downtown Toronto, in which so far comparatively few cafes exist and the customer potential is highest.", 
            "cell_type": "markdown", 
            "metadata": {}
        }, 
        {
            "source": "### 2. Description of the data and how it will be used to solve the problem", 
            "cell_type": "markdown", 
            "metadata": {}
        }, 
        {
            "source": "Geodata and location data should be used for the environment or competition analysis. First of all, the area under investigation (Downtown Toronto) is demarcated geographically. Subsequently, foursquare location data is used to analyze and evaluate the different neighborhoods. A visual representation of the evaluation should then form the basis for the decision in which Neighborhood the cafe should be opened.", 
            "cell_type": "markdown", 
            "metadata": {}
        }, 
        {
            "execution_count": null, 
            "cell_type": "code", 
            "metadata": {}, 
            "outputs": [], 
            "source": ""
        }
    ], 
    "metadata": {
        "kernelspec": {
            "display_name": "Python 3.6", 
            "name": "python3", 
            "language": "python"
        }, 
        "language_info": {
            "mimetype": "text/x-python", 
            "nbconvert_exporter": "python", 
            "version": "3.6.8", 
            "name": "python", 
            "file_extension": ".py", 
            "pygments_lexer": "ipython3", 
            "codemirror_mode": {
                "version": 3, 
                "name": "ipython"
            }
        }
    }, 
    "nbformat": 4
}